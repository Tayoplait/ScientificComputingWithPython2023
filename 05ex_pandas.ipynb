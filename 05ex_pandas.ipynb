{
 "cells": [
  {
   "cell_type": "markdown",
   "metadata": {},
   "source": [
    "1\\. **Pandas DataFrame**\n",
    "\n",
    "This exercise consists in analyzing a dataset containg timing information from a series of Time-to-Digital-Converters (TDC) implemented in a pair of FPGAs. Each measurement (i.e. each row of the input file) consists of a flag that specifies the type of message ('HEAD', which in this case is always 1), two addresses of the TDC providing the signal ('FPGA' and 'TDC_CHANNEL'), and the timing information ('ORBIT_CNT', 'BX_COUNTER', and 'TDC_MEAS'). Each TDC count corresponds to 25/30 ns, whereas a unit of BX_COUNTER corresponds to 25 ns, and the ORBIT_CNT is increased every `x` BX_COUNTER. This allows to store the time in a similar way to hours, minutes and seconds."
   ]
  },
  {
   "cell_type": "code",
   "execution_count": 1,
   "metadata": {},
   "outputs": [],
   "source": [
    "# If haven't downloaded it yet, please get the data file with wget\n",
    "#!wget https://www.dropbox.com/s/xvjzaxzz3ysphme/data_000637.txt -P ./data/"
   ]
  },
  {
   "cell_type": "markdown",
   "metadata": {},
   "source": [
    "1\\. Create a Pandas DataFrame reading N rows of the `data/data_000637.txt` dataset. Choose N to be smaller than or equal to the maximum number of rows and larger that 10k (check the documentation)."
   ]
  },
  {
   "cell_type": "code",
   "execution_count": 20,
   "metadata": {},
   "outputs": [
    {
     "name": "stdout",
     "output_type": "stream",
     "text": [
      "       HEAD  FPGA  TDC_CHANNEL   ORBIT_CNT  BX_COUNTER  TDC_MEAS\n",
      "0         1     0          123  3869200167        2374        26\n",
      "1         1     0          124  3869200167        2374        27\n",
      "2         1     0           63  3869200167        2553        28\n",
      "3         1     0           64  3869200167        2558        19\n",
      "4         1     0           64  3869200167        2760        25\n",
      "...     ...   ...          ...         ...         ...       ...\n",
      "11995     1     0          139  3869200286        3251         0\n",
      "11996     1     0           62  3869200286        3246         4\n",
      "11997     1     0           58  3869200286        3246        11\n",
      "11998     1     0           61  3869200286        3251        17\n",
      "11999     1     0           59  3869200286        3248        16\n",
      "\n",
      "[12000 rows x 6 columns]\n"
     ]
    }
   ],
   "source": [
    "import pandas as pd\n",
    "import matplotlib.pyplot as plt\n",
    "from datetime import timedelta\n",
    "\n",
    "file_path = 'data/data_000637.txt' #im on windows, only way i found was to download it by hand\n",
    "\n",
    "with open(file_path, 'r') as file:\n",
    "    total_lines = sum(1 for line in file)\n",
    "    \n",
    "N = min(12000,total_lines)\n",
    "df = pd.read_csv(file_path, nrows=N)\n",
    "\n",
    "print(df)"
   ]
  },
  {
   "cell_type": "markdown",
   "metadata": {},
   "source": [
    "2\\. Estimate the number of BX in a ORBIT (the value `x`).\n",
    "\n",
    "*Hint*: check when the BX counter reaches the maximum value before being reset to 0."
   ]
  },
  {
   "cell_type": "code",
   "execution_count": 6,
   "metadata": {},
   "outputs": [
    {
     "name": "stdout",
     "output_type": "stream",
     "text": [
      "number of BX in an ORBIT : 3563\n"
     ]
    }
   ],
   "source": [
    "\n",
    "max_bx_values = df[df['BX_COUNTER'] == df['BX_COUNTER'].max()]\n",
    "min_bx_values = df[df['BX_COUNTER'] == df['BX_COUNTER'].min()]\n",
    "x = max_bx_values['BX_COUNTER'].iloc[0] - min_bx_values['BX_COUNTER'].iloc[0]\n",
    "\n",
    "print(\"number of BX in an ORBIT :\",x)\n"
   ]
  },
  {
   "cell_type": "markdown",
   "metadata": {},
   "source": [
    "3\\. Create a new column with the absolute time in ns (as a combination of the other three columns with timing information) since the beginning of the data acquisition, and convert the new column to a Time Series.\n",
    "\n",
    "*Hint:* introduce an offset to the absolute time such that the start of the data acquisition (i.e. the first entry) is zero."
   ]
  },
  {
   "cell_type": "code",
   "execution_count": 19,
   "metadata": {},
   "outputs": [
    {
     "name": "stdout",
     "output_type": "stream",
     "text": [
      "         HEAD  FPGA  TDC_CHANNEL   ORBIT_CNT  BX_COUNTER  TDC_MEAS  \\\n",
      "0           1     0          123  3869200167        2374        26   \n",
      "1           1     0          124  3869200167        2374        27   \n",
      "2           1     0           63  3869200167        2553        28   \n",
      "3           1     0           64  3869200167        2558        19   \n",
      "4           1     0           64  3869200167        2760        25   \n",
      "...       ...   ...          ...         ...         ...       ...   \n",
      "1310715     1     0           62  3869211171         762        14   \n",
      "1310716     1     1            4  3869211171         763        11   \n",
      "1310717     1     0           64  3869211171         764         0   \n",
      "1310718     1     0          139  3869211171         769         0   \n",
      "1310719     1     0           61  3869211171         762        18   \n",
      "\n",
      "         absolute_time_ns                 absolute_time  \n",
      "0            0.000000e+00 1970-01-01 00:00:00.000000000  \n",
      "1            8.125000e-01 1970-01-01 00:00:00.000000000  \n",
      "2            4.476625e+03 1970-01-01 00:00:00.000004476  \n",
      "3            4.594125e+03 1970-01-01 00:00:00.000004594  \n",
      "4            9.649125e+03 1970-01-01 00:00:00.000009649  \n",
      "...                   ...                           ...  \n",
      "1310715      9.801410e+08 1970-01-01 00:00:00.980140990  \n",
      "1310716      9.801410e+08 1970-01-01 00:00:00.980141012  \n",
      "1310717      9.801410e+08 1970-01-01 00:00:00.980141028  \n",
      "1310718      9.801412e+08 1970-01-01 00:00:00.980141153  \n",
      "1310719      9.801410e+08 1970-01-01 00:00:00.980140993  \n",
      "\n",
      "[1310720 rows x 8 columns]\n"
     ]
    }
   ],
   "source": [
    "\n",
    "time_unit_ns = 25 / 30 \n",
    "bx_counter_ns = 25 \n",
    "\n",
    "\n",
    "df['absolute_time_ns'] = (\n",
    "    df['ORBIT_CNT'] * x * bx_counter_ns +\n",
    "    df['BX_COUNTER'] * bx_counter_ns +\n",
    "    df['TDC_MEAS'] * time_unit_ns\n",
    ")\n",
    "\n",
    "\n",
    "start_time = df['absolute_time_ns'].min()\n",
    "df['absolute_time_ns'] -= start_time\n",
    "df['absolute_time'] = pd.to_datetime(df['absolute_time_ns'], unit='ns')\n",
    "\n",
    "print(df)\n"
   ]
  },
  {
   "cell_type": "markdown",
   "metadata": {},
   "source": [
    "4\\. Find out the duration of the data taking in hours, minutes and seconds, by using the features of the Time Series. Perform this check reading the whole dataset."
   ]
  },
  {
   "cell_type": "code",
   "execution_count": 20,
   "metadata": {},
   "outputs": [
    {
     "name": "stdout",
     "output_type": "stream",
     "text": [
      "Duration of data: 0.0  hours,  0.0  minutes,  0.980141  seconds\n"
     ]
    }
   ],
   "source": [
    "duration = df['absolute_time'].max() - df['absolute_time'].min()\n",
    "hours, remainder = divmod(duration.total_seconds(), 3600)\n",
    "minutes, seconds = divmod(remainder, 60)\n",
    "\n",
    "print(\"Duration of data:\", hours,  \" hours, \", minutes,  \" minutes, \", seconds, \" seconds\")"
   ]
  },
  {
   "cell_type": "markdown",
   "metadata": {},
   "source": [
    "5\\. Use the `.groupby()` method to find out the noisy channels, i.e. the TDC channels with most counts (print to screen the top 3 and the corresponding counts)"
   ]
  },
  {
   "cell_type": "code",
   "execution_count": 21,
   "metadata": {},
   "outputs": [
    {
     "name": "stdout",
     "output_type": "stream",
     "text": [
      "top 3 noisy channels:\n",
      "     FPGA  TDC_CHANNEL  count\n",
      "123     0          139  75617\n",
      "58      0           64  64581\n",
      "57      0           63  63724\n"
     ]
    }
   ],
   "source": [
    "channel_counts = df.groupby(['FPGA', 'TDC_CHANNEL']).size().reset_index(name='count')\n",
    "top_noisy_channels = channel_counts.nlargest(3, 'count')\n",
    "\n",
    "print(\"top 3 noisy channels:\")\n",
    "print(top_noisy_channels[['FPGA', 'TDC_CHANNEL', 'count']])"
   ]
  },
  {
   "cell_type": "markdown",
   "metadata": {},
   "source": [
    "6\\. Count the number of non-empty orbits (i.e. the number of orbits with at least one hit)."
   ]
  },
  {
   "cell_type": "code",
   "execution_count": 22,
   "metadata": {},
   "outputs": [
    {
     "name": "stdout",
     "output_type": "stream",
     "text": [
      "Non empty orbits number: 11001\n"
     ]
    }
   ],
   "source": [
    "non_empty_orbits = df[df.groupby('ORBIT_CNT')['TDC_MEAS'].transform('count') > 0]\n",
    "num_non_empty_orbits = non_empty_orbits['ORBIT_CNT'].nunique()\n",
    "\n",
    "print(\"Non empty orbits number:\" ,num_non_empty_orbits)"
   ]
  },
  {
   "cell_type": "markdown",
   "metadata": {},
   "source": [
    "7\\. Count the number of unique orbits with at least one measurement from TDC_CHANNEL=139."
   ]
  },
  {
   "cell_type": "code",
   "execution_count": 23,
   "metadata": {},
   "outputs": [
    {
     "name": "stdout",
     "output_type": "stream",
     "text": [
      "number of unique orbits with at least one measurement from TDC_CHANNEL=139: 10976\n"
     ]
    }
   ],
   "source": [
    "filtered_df = df[(df['TDC_CHANNEL'] == 139) & (df.groupby('ORBIT_CNT')['TDC_MEAS'].transform('count') > 0)]\n",
    "num_unique_orbits_channel_139 = filtered_df['ORBIT_CNT'].nunique()\n",
    "\n",
    "print(\"number of unique orbits with at least one measurement from TDC_CHANNEL=139:\", num_unique_orbits_channel_139)"
   ]
  },
  {
   "cell_type": "markdown",
   "metadata": {},
   "source": [
    "8\\. Create two Series (one for each FPGA) that have the TDC channel as index, and the number of counts for the corresponding TDC channel as values."
   ]
  },
  {
   "cell_type": "code",
   "execution_count": 24,
   "metadata": {},
   "outputs": [
    {
     "name": "stdout",
     "output_type": "stream",
     "text": [
      "FPGA 1:\n",
      "TDC_CHANNEL\n",
      "1    28438\n",
      "2    32669\n",
      "3    21970\n",
      "4    26403\n",
      "5    15003\n",
      "Name: count, dtype: int64\n",
      "\n",
      " FPGA 2:\n",
      "TDC_CHANNEL\n",
      "1    1215\n",
      "2    1602\n",
      "3    1493\n",
      "4    2352\n",
      "5    1432\n",
      "Name: count, dtype: int64\n"
     ]
    }
   ],
   "source": [
    "grouped_counts = df.groupby(['FPGA', 'TDC_CHANNEL']).size().reset_index(name='count')\n",
    "\n",
    "fpga1 = grouped_counts[grouped_counts['FPGA'] == 1].set_index('TDC_CHANNEL')['count']\n",
    "fpga2 = grouped_counts[grouped_counts['FPGA'] == 0].set_index('TDC_CHANNEL')['count']\n",
    "\n",
    "\n",
    "print(\"FPGA 1:\")\n",
    "print(fpga1.head())\n",
    "print('\\n', \"FPGA 2:\")\n",
    "print(fpga2.head())"
   ]
  },
  {
   "cell_type": "markdown",
   "metadata": {},
   "source": [
    "9\\. **Optional:** Create two histograms (one for each FPGA) that show the number of counts for each TDC channel."
   ]
  },
  {
   "cell_type": "code",
   "execution_count": 25,
   "metadata": {},
   "outputs": [
    {
     "data": {
      "image/png": "[encoded data removed]",
      "text/plain": [
       "<Figure size 640x480 with 2 Axes>"
      ]
     },
     "metadata": {},
     "output_type": "display_data"
    }
   ],
   "source": [
    "\n",
    "df_fpga1 = grouped_counts[grouped_counts['FPGA'] == 1]\n",
    "df_fpga2 = grouped_counts[grouped_counts['FPGA'] == 0]\n",
    "\n",
    "plt.subplot(1, 2, 1)\n",
    "plt.hist(df_fpga1['count'], bins=20, edgecolor='black')\n",
    "plt.title('FPGA 1')\n",
    "plt.subplot(1, 2, 2)\n",
    "plt.hist(df_fpga2['count'], bins=20, edgecolor='black')\n",
    "plt.title('FPGA 2')\n",
    "plt.show()"
   ]
  },
  {
   "cell_type": "code",
   "execution_count": null,
   "metadata": {},
   "outputs": [],
   "source": []
  }
 ],
 "metadata": {
  "kernelspec": {
   "display_name": "Python 3 (ipykernel)",
   "language": "python",
   "name": "python3"
  },
  "language_info": {
   "codemirror_mode": {
    "name": "ipython",
    "version": 3
   },
   "file_extension": ".py",
   "mimetype": "text/x-python",
   "name": "python",
   "nbconvert_exporter": "python",
   "pygments_lexer": "ipython3",
   "version": "3.11.5"
  }
 },
 "nbformat": 4,
 "nbformat_minor": 4
}
